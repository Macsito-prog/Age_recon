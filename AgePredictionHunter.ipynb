{
  "nbformat": 4,
  "nbformat_minor": 0,
  "metadata": {
    "colab": {
      "name": "AgePredictionHunter.ipynb",
      "provenance": [],
      "authorship_tag": "ABX9TyN1ATQEpsMXHHhN8yGg+bp3",
      "include_colab_link": true
    },
    "kernelspec": {
      "name": "python3",
      "display_name": "Python 3"
    }
  },
  "cells": [
    {
      "cell_type": "markdown",
      "metadata": {
        "id": "view-in-github",
        "colab_type": "text"
      },
      "source": [
        "<a href=\"https://colab.research.google.com/github/Macsito-prog/Age_recon/blob/main/AgePredictionHunter.ipynb\" target=\"_parent\"><img src=\"https://colab.research.google.com/assets/colab-badge.svg\" alt=\"Open In Colab\"/></a>"
      ]
    },
    {
      "cell_type": "code",
      "metadata": {
        "colab": {
          "base_uri": "https://localhost:8080/"
        },
        "id": "NwEdXn1YBeCW",
        "outputId": "127e5627-4870-4140-8116-96a6ce54cbfa"
      },
      "source": [
        "!pip install gdown"
      ],
      "execution_count": 2,
      "outputs": [
        {
          "output_type": "stream",
          "text": [
            "Requirement already satisfied: gdown in /usr/local/lib/python3.6/dist-packages (3.6.4)\n",
            "Requirement already satisfied: tqdm in /usr/local/lib/python3.6/dist-packages (from gdown) (4.41.1)\n",
            "Requirement already satisfied: requests in /usr/local/lib/python3.6/dist-packages (from gdown) (2.23.0)\n",
            "Requirement already satisfied: six in /usr/local/lib/python3.6/dist-packages (from gdown) (1.15.0)\n",
            "Requirement already satisfied: certifi>=2017.4.17 in /usr/local/lib/python3.6/dist-packages (from requests->gdown) (2020.12.5)\n",
            "Requirement already satisfied: urllib3!=1.25.0,!=1.25.1,<1.26,>=1.21.1 in /usr/local/lib/python3.6/dist-packages (from requests->gdown) (1.24.3)\n",
            "Requirement already satisfied: idna<3,>=2.5 in /usr/local/lib/python3.6/dist-packages (from requests->gdown) (2.10)\n",
            "Requirement already satisfied: chardet<4,>=3.0.2 in /usr/local/lib/python3.6/dist-packages (from requests->gdown) (3.0.4)\n"
          ],
          "name": "stdout"
        }
      ]
    },
    {
      "cell_type": "code",
      "metadata": {
        "colab": {
          "base_uri": "https://localhost:8080/"
        },
        "id": "T-xGMpmvBryN",
        "outputId": "853d6333-7fc5-4bb4-b977-489f7aeee4de"
      },
      "source": [
        "!gdown https://drive.google.com/uc?id=0BxYys69jI14kRjNmM0gyVWM2bHM\r\n"
      ],
      "execution_count": 4,
      "outputs": [
        {
          "output_type": "stream",
          "text": [
            "Downloading...\n",
            "From: https://drive.google.com/uc?id=0BxYys69jI14kRjNmM0gyVWM2bHM\n",
            "To: /content/crop_part1.tar.gz\n",
            "45.4MB [00:00, 80.0MB/s]\n"
          ],
          "name": "stdout"
        }
      ]
    },
    {
      "cell_type": "code",
      "metadata": {
        "id": "TxMaN1xPB_UV"
      },
      "source": [
        "!tar -xf /content/crop_part1.tar.gz"
      ],
      "execution_count": 6,
      "outputs": []
    },
    {
      "cell_type": "code",
      "metadata": {
        "id": "0gE9W4UICEL_"
      },
      "source": [
        "import os \r\n",
        "import numpy as np\r\n",
        "import cv2\r\n",
        "import tensorflow as tf"
      ],
      "execution_count": 8,
      "outputs": []
    },
    {
      "cell_type": "code",
      "metadata": {
        "id": "vYdXoW5MCL6l"
      },
      "source": [
        "PATH = '/content/crop_part1'"
      ],
      "execution_count": 10,
      "outputs": []
    },
    {
      "cell_type": "code",
      "metadata": {
        "id": "ibavY99QCc35"
      },
      "source": [
        "paths = os.listdir(PATH)"
      ],
      "execution_count": 15,
      "outputs": []
    },
    {
      "cell_type": "code",
      "metadata": {
        "colab": {
          "base_uri": "https://localhost:8080/"
        },
        "id": "Llk4QeoACnd4",
        "outputId": "e9a09784-c617-4576-9dbf-f5eab6da5035"
      },
      "source": [
        "len(paths)"
      ],
      "execution_count": 17,
      "outputs": [
        {
          "output_type": "execute_result",
          "data": {
            "text/plain": [
              "9780"
            ]
          },
          "metadata": {
            "tags": []
          },
          "execution_count": 17
        }
      ]
    },
    {
      "cell_type": "code",
      "metadata": {
        "id": "JClAFR6cDI9j"
      },
      "source": [
        "labels = np.array([float(path.split('_')[0]) for path in paths])"
      ],
      "execution_count": 20,
      "outputs": []
    },
    {
      "cell_type": "code",
      "metadata": {
        "colab": {
          "base_uri": "https://localhost:8080/"
        },
        "id": "vCv_QXKqDdBQ",
        "outputId": "6c84aed6-6f04-4270-be93-98e1442eb08a"
      },
      "source": [
        "labels[0]"
      ],
      "execution_count": 22,
      "outputs": [
        {
          "output_type": "execute_result",
          "data": {
            "text/plain": [
              "51.0"
            ]
          },
          "metadata": {
            "tags": []
          },
          "execution_count": 22
        }
      ]
    },
    {
      "cell_type": "code",
      "metadata": {
        "id": "xUL0y3wnDmO7"
      },
      "source": [
        "def format_image(path):\r\n",
        "  img = cv2.imread(PATH + '/' + path)\r\n",
        "  img = cv2.resize(img, (128,128))\r\n",
        "  return img"
      ],
      "execution_count": 23,
      "outputs": []
    },
    {
      "cell_type": "code",
      "metadata": {
        "id": "inRuYBZiD2Uv"
      },
      "source": [
        "data = np.array([format_image(path)for path in paths])"
      ],
      "execution_count": 24,
      "outputs": []
    },
    {
      "cell_type": "code",
      "metadata": {
        "id": "BV8T-JMzEtK6"
      },
      "source": [
        "from sklearn.model_selection import train_test_split"
      ],
      "execution_count": 26,
      "outputs": []
    },
    {
      "cell_type": "code",
      "metadata": {
        "id": "txOyunT1EyjX"
      },
      "source": [
        "train_x, test_x, train_y, test_y = train_test_split(data, labels, test_size = 0.2)"
      ],
      "execution_count": 28,
      "outputs": []
    },
    {
      "cell_type": "code",
      "metadata": {
        "id": "3uPg_--HE7zO"
      },
      "source": [
        "from tensorflow.keras.applications import MobileNet"
      ],
      "execution_count": 29,
      "outputs": []
    },
    {
      "cell_type": "code",
      "metadata": {
        "id": "Kb4bEiS7FHOp"
      },
      "source": [
        "import tensorflow.keras.layers as L"
      ],
      "execution_count": 31,
      "outputs": []
    },
    {
      "cell_type": "code",
      "metadata": {
        "colab": {
          "base_uri": "https://localhost:8080/"
        },
        "id": "rK9Pg-ycFKwP",
        "outputId": "d394f964-c2d1-476b-b194-475adeb4bc4e"
      },
      "source": [
        "model = tf.keras.Sequential([\r\n",
        "                 MobileNet(input_shape=(128,128,3),\r\n",
        "                 include_top = False,\r\n",
        "                 pooling='avg',\r\n",
        "                 weights='imagenet'),\r\n",
        "                 L.Dense(1)\r\n",
        "])"
      ],
      "execution_count": 33,
      "outputs": [
        {
          "output_type": "stream",
          "text": [
            "Downloading data from https://storage.googleapis.com/tensorflow/keras-applications/mobilenet/mobilenet_1_0_128_tf_no_top.h5\n",
            "17227776/17225924 [==============================] - 0s 0us/step\n"
          ],
          "name": "stdout"
        }
      ]
    },
    {
      "cell_type": "code",
      "metadata": {
        "colab": {
          "base_uri": "https://localhost:8080/"
        },
        "id": "ujyPHX1CFslb",
        "outputId": "a34186b1-1b92-4d46-ee0c-ca8ee2aab23e"
      },
      "source": [
        "model.summary()"
      ],
      "execution_count": 34,
      "outputs": [
        {
          "output_type": "stream",
          "text": [
            "Model: \"sequential\"\n",
            "_________________________________________________________________\n",
            "Layer (type)                 Output Shape              Param #   \n",
            "=================================================================\n",
            "mobilenet_1.00_128 (Function (None, 1024)              3228864   \n",
            "_________________________________________________________________\n",
            "dense (Dense)                (None, 1)                 1025      \n",
            "=================================================================\n",
            "Total params: 3,229,889\n",
            "Trainable params: 3,208,001\n",
            "Non-trainable params: 21,888\n",
            "_________________________________________________________________\n"
          ],
          "name": "stdout"
        }
      ]
    },
    {
      "cell_type": "code",
      "metadata": {
        "id": "xAJI1CrSF-wh"
      },
      "source": [
        "model.compile(optimizer='adam', loss='mae', metrics='mae')"
      ],
      "execution_count": 35,
      "outputs": []
    },
    {
      "cell_type": "code",
      "metadata": {
        "colab": {
          "base_uri": "https://localhost:8080/"
        },
        "id": "mKiPTYJ9GHbK",
        "outputId": "15e6ee8c-e9ed-4925-d757-6f9a326d7d52"
      },
      "source": [
        "model.fit(\r\n",
        "    train_x,\r\n",
        "    train_y,\r\n",
        "    batch_size= 64,\r\n",
        "    epochs=4,\r\n",
        "    validation_data=(test_x,test_y)\r\n",
        ")"
      ],
      "execution_count": 37,
      "outputs": [
        {
          "output_type": "stream",
          "text": [
            "Epoch 1/4\n",
            "123/123 [==============================] - 490s 4s/step - loss: 13.2154 - mae: 13.2154 - val_loss: 12.3606 - val_mae: 12.3606\n",
            "Epoch 2/4\n",
            "123/123 [==============================] - 481s 4s/step - loss: 5.3281 - mae: 5.3281 - val_loss: 6.0647 - val_mae: 6.0647\n",
            "Epoch 3/4\n",
            "123/123 [==============================] - 479s 4s/step - loss: 4.4305 - mae: 4.4305 - val_loss: 5.5125 - val_mae: 5.5125\n",
            "Epoch 4/4\n",
            "123/123 [==============================] - 477s 4s/step - loss: 4.0354 - mae: 4.0354 - val_loss: 6.0240 - val_mae: 6.0240\n"
          ],
          "name": "stdout"
        },
        {
          "output_type": "execute_result",
          "data": {
            "text/plain": [
              "<tensorflow.python.keras.callbacks.History at 0x7f7658c72860>"
            ]
          },
          "metadata": {
            "tags": []
          },
          "execution_count": 37
        }
      ]
    },
    {
      "cell_type": "code",
      "metadata": {
        "id": "XG8sIvn5GXIN"
      },
      "source": [
        "foto_prueba = cv2.imread('/content/selfie.jpg')"
      ],
      "execution_count": 57,
      "outputs": []
    },
    {
      "cell_type": "code",
      "metadata": {
        "id": "HyocjJFOHOdQ"
      },
      "source": [
        "foto_prueba = cv2.resize(foto_prueba,(128,128))"
      ],
      "execution_count": 58,
      "outputs": []
    },
    {
      "cell_type": "code",
      "metadata": {
        "id": "CeMOmoS7OyR5"
      },
      "source": [
        "from google.colab.patches import cv2_imshow"
      ],
      "execution_count": 52,
      "outputs": []
    },
    {
      "cell_type": "code",
      "metadata": {
        "colab": {
          "base_uri": "https://localhost:8080/",
          "height": 145
        },
        "id": "dSV7Shw4HYIl",
        "outputId": "af502569-38d8-48a2-bb0c-6edf6b4a00f8"
      },
      "source": [
        "cv2_imshow(foto_prueba)"
      ],
      "execution_count": 59,
      "outputs": [
        {
          "output_type": "display_data",
          "data": {
            "image/png": "[encoded data removed]",
            "text/plain": [
              "<PIL.Image.Image image mode=RGB size=128x128 at 0x7F7654ED46A0>"
            ]
          },
          "metadata": {
            "tags": []
          }
        }
      ]
    },
    {
      "cell_type": "code",
      "metadata": {
        "id": "35nr9d1CHaw9"
      },
      "source": [
        "foto_prueba = foto_prueba.reshape(1,128,128,3)"
      ],
      "execution_count": 60,
      "outputs": []
    },
    {
      "cell_type": "code",
      "metadata": {
        "id": "faeTAn8NPhcK"
      },
      "source": [
        "pred = model.predict(foto_prueba)\r\n"
      ],
      "execution_count": 61,
      "outputs": []
    },
    {
      "cell_type": "code",
      "metadata": {
        "colab": {
          "base_uri": "https://localhost:8080/"
        },
        "id": "c8LMQoyoPpOh",
        "outputId": "045afa56-9382-41fb-ed57-6fda44ee1a48"
      },
      "source": [
        "pred"
      ],
      "execution_count": 62,
      "outputs": [
        {
          "output_type": "execute_result",
          "data": {
            "text/plain": [
              "array([[20.49179]], dtype=float32)"
            ]
          },
          "metadata": {
            "tags": []
          },
          "execution_count": 62
        }
      ]
    },
    {
      "cell_type": "code",
      "metadata": {
        "id": "NnxuBfPJPpoN"
      },
      "source": [
        ""
      ],
      "execution_count": null,
      "outputs": []
    }
  ]
}